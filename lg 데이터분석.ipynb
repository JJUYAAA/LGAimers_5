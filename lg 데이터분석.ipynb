{
 "cells": [
  {
   "cell_type": "markdown",
   "id": "017e9265",
   "metadata": {},
   "source": [
    "# 제품 이상여부 판별 프로젝트\n"
   ]
  },
  {
   "cell_type": "markdown",
   "id": "acdab431",
   "metadata": {},
   "source": [
    "## 1. 데이터 불러오기\n"
   ]
  },
  {
   "cell_type": "markdown",
   "id": "2b8341e8",
   "metadata": {},
   "source": [
    "### 필수 라이브러리\n"
   ]
  },
  {
   "cell_type": "markdown",
   "id": "4d054e30",
   "metadata": {},
   "source": [
    "### 데이터 읽어오기\n"
   ]
  },
  {
   "cell_type": "code",
   "execution_count": 6,
   "id": "a315cc58",
   "metadata": {},
   "outputs": [
    {
     "name": "stderr",
     "output_type": "stream",
     "text": [
      "Matplotlib is building the font cache; this may take a moment.\n"
     ]
    }
   ],
   "source": [
    "import os\n",
    "from pprint import pprint\n",
    "\n",
    "import numpy as np\n",
    "import pandas as pd\n",
    "from sklearn.ensemble import RandomForestClassifier\n",
    "from sklearn.metrics import (\n",
    "    accuracy_score,\n",
    "    classification_report,\n",
    "    confusion_matrix,\n",
    "    f1_score,\n",
    "    precision_score,\n",
    "    recall_score,\n",
    ")\n",
    "from sklearn.model_selection import train_test_split\n",
    "from tqdm import tqdm\n",
    "import matplotlib.pyplot as plt\n",
    "\n",
    "\n",
    "from sklearn.model_selection import cross_val_score\n",
    "from sklearn.model_selection import GridSearchCV\n",
    "\n",
    "\n",
    "pd.set_option('display.max_columns', None)"
   ]
  },
  {
   "cell_type": "code",
   "execution_count": 7,
   "id": "fc0b4d80",
   "metadata": {},
   "outputs": [
    {
     "ename": "FileNotFoundError",
     "evalue": "[Errno 2] No such file or directory: 'data\\\\train.csv'",
     "output_type": "error",
     "traceback": [
      "\u001b[1;31m---------------------------------------------------------------------------\u001b[0m",
      "\u001b[1;31mFileNotFoundError\u001b[0m                         Traceback (most recent call last)",
      "Cell \u001b[1;32mIn[7], line 5\u001b[0m\n\u001b[0;32m      2\u001b[0m RANDOM_STATE \u001b[38;5;241m=\u001b[39m \u001b[38;5;241m110\u001b[39m\n\u001b[0;32m      4\u001b[0m \u001b[38;5;66;03m# Load data\u001b[39;00m\n\u001b[1;32m----> 5\u001b[0m train_data \u001b[38;5;241m=\u001b[39m \u001b[43mpd\u001b[49m\u001b[38;5;241;43m.\u001b[39;49m\u001b[43mread_csv\u001b[49m\u001b[43m(\u001b[49m\u001b[43mos\u001b[49m\u001b[38;5;241;43m.\u001b[39;49m\u001b[43mpath\u001b[49m\u001b[38;5;241;43m.\u001b[39;49m\u001b[43mjoin\u001b[49m\u001b[43m(\u001b[49m\u001b[43mROOT_DIR\u001b[49m\u001b[43m,\u001b[49m\u001b[43m \u001b[49m\u001b[38;5;124;43m\"\u001b[39;49m\u001b[38;5;124;43mtrain.csv\u001b[39;49m\u001b[38;5;124;43m\"\u001b[39;49m\u001b[43m)\u001b[49m\u001b[43m)\u001b[49m\n\u001b[0;32m      6\u001b[0m train_data\n",
      "File \u001b[1;32m~\\AppData\\Local\\Programs\\Python\\Python311\\Lib\\site-packages\\pandas\\io\\parsers\\readers.py:948\u001b[0m, in \u001b[0;36mread_csv\u001b[1;34m(filepath_or_buffer, sep, delimiter, header, names, index_col, usecols, dtype, engine, converters, true_values, false_values, skipinitialspace, skiprows, skipfooter, nrows, na_values, keep_default_na, na_filter, verbose, skip_blank_lines, parse_dates, infer_datetime_format, keep_date_col, date_parser, date_format, dayfirst, cache_dates, iterator, chunksize, compression, thousands, decimal, lineterminator, quotechar, quoting, doublequote, escapechar, comment, encoding, encoding_errors, dialect, on_bad_lines, delim_whitespace, low_memory, memory_map, float_precision, storage_options, dtype_backend)\u001b[0m\n\u001b[0;32m    935\u001b[0m kwds_defaults \u001b[38;5;241m=\u001b[39m _refine_defaults_read(\n\u001b[0;32m    936\u001b[0m     dialect,\n\u001b[0;32m    937\u001b[0m     delimiter,\n\u001b[1;32m   (...)\u001b[0m\n\u001b[0;32m    944\u001b[0m     dtype_backend\u001b[38;5;241m=\u001b[39mdtype_backend,\n\u001b[0;32m    945\u001b[0m )\n\u001b[0;32m    946\u001b[0m kwds\u001b[38;5;241m.\u001b[39mupdate(kwds_defaults)\n\u001b[1;32m--> 948\u001b[0m \u001b[38;5;28;01mreturn\u001b[39;00m \u001b[43m_read\u001b[49m\u001b[43m(\u001b[49m\u001b[43mfilepath_or_buffer\u001b[49m\u001b[43m,\u001b[49m\u001b[43m \u001b[49m\u001b[43mkwds\u001b[49m\u001b[43m)\u001b[49m\n",
      "File \u001b[1;32m~\\AppData\\Local\\Programs\\Python\\Python311\\Lib\\site-packages\\pandas\\io\\parsers\\readers.py:611\u001b[0m, in \u001b[0;36m_read\u001b[1;34m(filepath_or_buffer, kwds)\u001b[0m\n\u001b[0;32m    608\u001b[0m _validate_names(kwds\u001b[38;5;241m.\u001b[39mget(\u001b[38;5;124m\"\u001b[39m\u001b[38;5;124mnames\u001b[39m\u001b[38;5;124m\"\u001b[39m, \u001b[38;5;28;01mNone\u001b[39;00m))\n\u001b[0;32m    610\u001b[0m \u001b[38;5;66;03m# Create the parser.\u001b[39;00m\n\u001b[1;32m--> 611\u001b[0m parser \u001b[38;5;241m=\u001b[39m \u001b[43mTextFileReader\u001b[49m\u001b[43m(\u001b[49m\u001b[43mfilepath_or_buffer\u001b[49m\u001b[43m,\u001b[49m\u001b[43m \u001b[49m\u001b[38;5;241;43m*\u001b[39;49m\u001b[38;5;241;43m*\u001b[39;49m\u001b[43mkwds\u001b[49m\u001b[43m)\u001b[49m\n\u001b[0;32m    613\u001b[0m \u001b[38;5;28;01mif\u001b[39;00m chunksize \u001b[38;5;129;01mor\u001b[39;00m iterator:\n\u001b[0;32m    614\u001b[0m     \u001b[38;5;28;01mreturn\u001b[39;00m parser\n",
      "File \u001b[1;32m~\\AppData\\Local\\Programs\\Python\\Python311\\Lib\\site-packages\\pandas\\io\\parsers\\readers.py:1448\u001b[0m, in \u001b[0;36mTextFileReader.__init__\u001b[1;34m(self, f, engine, **kwds)\u001b[0m\n\u001b[0;32m   1445\u001b[0m     \u001b[38;5;28mself\u001b[39m\u001b[38;5;241m.\u001b[39moptions[\u001b[38;5;124m\"\u001b[39m\u001b[38;5;124mhas_index_names\u001b[39m\u001b[38;5;124m\"\u001b[39m] \u001b[38;5;241m=\u001b[39m kwds[\u001b[38;5;124m\"\u001b[39m\u001b[38;5;124mhas_index_names\u001b[39m\u001b[38;5;124m\"\u001b[39m]\n\u001b[0;32m   1447\u001b[0m \u001b[38;5;28mself\u001b[39m\u001b[38;5;241m.\u001b[39mhandles: IOHandles \u001b[38;5;241m|\u001b[39m \u001b[38;5;28;01mNone\u001b[39;00m \u001b[38;5;241m=\u001b[39m \u001b[38;5;28;01mNone\u001b[39;00m\n\u001b[1;32m-> 1448\u001b[0m \u001b[38;5;28mself\u001b[39m\u001b[38;5;241m.\u001b[39m_engine \u001b[38;5;241m=\u001b[39m \u001b[38;5;28;43mself\u001b[39;49m\u001b[38;5;241;43m.\u001b[39;49m\u001b[43m_make_engine\u001b[49m\u001b[43m(\u001b[49m\u001b[43mf\u001b[49m\u001b[43m,\u001b[49m\u001b[43m \u001b[49m\u001b[38;5;28;43mself\u001b[39;49m\u001b[38;5;241;43m.\u001b[39;49m\u001b[43mengine\u001b[49m\u001b[43m)\u001b[49m\n",
      "File \u001b[1;32m~\\AppData\\Local\\Programs\\Python\\Python311\\Lib\\site-packages\\pandas\\io\\parsers\\readers.py:1705\u001b[0m, in \u001b[0;36mTextFileReader._make_engine\u001b[1;34m(self, f, engine)\u001b[0m\n\u001b[0;32m   1703\u001b[0m     \u001b[38;5;28;01mif\u001b[39;00m \u001b[38;5;124m\"\u001b[39m\u001b[38;5;124mb\u001b[39m\u001b[38;5;124m\"\u001b[39m \u001b[38;5;129;01mnot\u001b[39;00m \u001b[38;5;129;01min\u001b[39;00m mode:\n\u001b[0;32m   1704\u001b[0m         mode \u001b[38;5;241m+\u001b[39m\u001b[38;5;241m=\u001b[39m \u001b[38;5;124m\"\u001b[39m\u001b[38;5;124mb\u001b[39m\u001b[38;5;124m\"\u001b[39m\n\u001b[1;32m-> 1705\u001b[0m \u001b[38;5;28mself\u001b[39m\u001b[38;5;241m.\u001b[39mhandles \u001b[38;5;241m=\u001b[39m \u001b[43mget_handle\u001b[49m\u001b[43m(\u001b[49m\n\u001b[0;32m   1706\u001b[0m \u001b[43m    \u001b[49m\u001b[43mf\u001b[49m\u001b[43m,\u001b[49m\n\u001b[0;32m   1707\u001b[0m \u001b[43m    \u001b[49m\u001b[43mmode\u001b[49m\u001b[43m,\u001b[49m\n\u001b[0;32m   1708\u001b[0m \u001b[43m    \u001b[49m\u001b[43mencoding\u001b[49m\u001b[38;5;241;43m=\u001b[39;49m\u001b[38;5;28;43mself\u001b[39;49m\u001b[38;5;241;43m.\u001b[39;49m\u001b[43moptions\u001b[49m\u001b[38;5;241;43m.\u001b[39;49m\u001b[43mget\u001b[49m\u001b[43m(\u001b[49m\u001b[38;5;124;43m\"\u001b[39;49m\u001b[38;5;124;43mencoding\u001b[39;49m\u001b[38;5;124;43m\"\u001b[39;49m\u001b[43m,\u001b[49m\u001b[43m \u001b[49m\u001b[38;5;28;43;01mNone\u001b[39;49;00m\u001b[43m)\u001b[49m\u001b[43m,\u001b[49m\n\u001b[0;32m   1709\u001b[0m \u001b[43m    \u001b[49m\u001b[43mcompression\u001b[49m\u001b[38;5;241;43m=\u001b[39;49m\u001b[38;5;28;43mself\u001b[39;49m\u001b[38;5;241;43m.\u001b[39;49m\u001b[43moptions\u001b[49m\u001b[38;5;241;43m.\u001b[39;49m\u001b[43mget\u001b[49m\u001b[43m(\u001b[49m\u001b[38;5;124;43m\"\u001b[39;49m\u001b[38;5;124;43mcompression\u001b[39;49m\u001b[38;5;124;43m\"\u001b[39;49m\u001b[43m,\u001b[49m\u001b[43m \u001b[49m\u001b[38;5;28;43;01mNone\u001b[39;49;00m\u001b[43m)\u001b[49m\u001b[43m,\u001b[49m\n\u001b[0;32m   1710\u001b[0m \u001b[43m    \u001b[49m\u001b[43mmemory_map\u001b[49m\u001b[38;5;241;43m=\u001b[39;49m\u001b[38;5;28;43mself\u001b[39;49m\u001b[38;5;241;43m.\u001b[39;49m\u001b[43moptions\u001b[49m\u001b[38;5;241;43m.\u001b[39;49m\u001b[43mget\u001b[49m\u001b[43m(\u001b[49m\u001b[38;5;124;43m\"\u001b[39;49m\u001b[38;5;124;43mmemory_map\u001b[39;49m\u001b[38;5;124;43m\"\u001b[39;49m\u001b[43m,\u001b[49m\u001b[43m \u001b[49m\u001b[38;5;28;43;01mFalse\u001b[39;49;00m\u001b[43m)\u001b[49m\u001b[43m,\u001b[49m\n\u001b[0;32m   1711\u001b[0m \u001b[43m    \u001b[49m\u001b[43mis_text\u001b[49m\u001b[38;5;241;43m=\u001b[39;49m\u001b[43mis_text\u001b[49m\u001b[43m,\u001b[49m\n\u001b[0;32m   1712\u001b[0m \u001b[43m    \u001b[49m\u001b[43merrors\u001b[49m\u001b[38;5;241;43m=\u001b[39;49m\u001b[38;5;28;43mself\u001b[39;49m\u001b[38;5;241;43m.\u001b[39;49m\u001b[43moptions\u001b[49m\u001b[38;5;241;43m.\u001b[39;49m\u001b[43mget\u001b[49m\u001b[43m(\u001b[49m\u001b[38;5;124;43m\"\u001b[39;49m\u001b[38;5;124;43mencoding_errors\u001b[39;49m\u001b[38;5;124;43m\"\u001b[39;49m\u001b[43m,\u001b[49m\u001b[43m \u001b[49m\u001b[38;5;124;43m\"\u001b[39;49m\u001b[38;5;124;43mstrict\u001b[39;49m\u001b[38;5;124;43m\"\u001b[39;49m\u001b[43m)\u001b[49m\u001b[43m,\u001b[49m\n\u001b[0;32m   1713\u001b[0m \u001b[43m    \u001b[49m\u001b[43mstorage_options\u001b[49m\u001b[38;5;241;43m=\u001b[39;49m\u001b[38;5;28;43mself\u001b[39;49m\u001b[38;5;241;43m.\u001b[39;49m\u001b[43moptions\u001b[49m\u001b[38;5;241;43m.\u001b[39;49m\u001b[43mget\u001b[49m\u001b[43m(\u001b[49m\u001b[38;5;124;43m\"\u001b[39;49m\u001b[38;5;124;43mstorage_options\u001b[39;49m\u001b[38;5;124;43m\"\u001b[39;49m\u001b[43m,\u001b[49m\u001b[43m \u001b[49m\u001b[38;5;28;43;01mNone\u001b[39;49;00m\u001b[43m)\u001b[49m\u001b[43m,\u001b[49m\n\u001b[0;32m   1714\u001b[0m \u001b[43m\u001b[49m\u001b[43m)\u001b[49m\n\u001b[0;32m   1715\u001b[0m \u001b[38;5;28;01massert\u001b[39;00m \u001b[38;5;28mself\u001b[39m\u001b[38;5;241m.\u001b[39mhandles \u001b[38;5;129;01mis\u001b[39;00m \u001b[38;5;129;01mnot\u001b[39;00m \u001b[38;5;28;01mNone\u001b[39;00m\n\u001b[0;32m   1716\u001b[0m f \u001b[38;5;241m=\u001b[39m \u001b[38;5;28mself\u001b[39m\u001b[38;5;241m.\u001b[39mhandles\u001b[38;5;241m.\u001b[39mhandle\n",
      "File \u001b[1;32m~\\AppData\\Local\\Programs\\Python\\Python311\\Lib\\site-packages\\pandas\\io\\common.py:863\u001b[0m, in \u001b[0;36mget_handle\u001b[1;34m(path_or_buf, mode, encoding, compression, memory_map, is_text, errors, storage_options)\u001b[0m\n\u001b[0;32m    858\u001b[0m \u001b[38;5;28;01melif\u001b[39;00m \u001b[38;5;28misinstance\u001b[39m(handle, \u001b[38;5;28mstr\u001b[39m):\n\u001b[0;32m    859\u001b[0m     \u001b[38;5;66;03m# Check whether the filename is to be opened in binary mode.\u001b[39;00m\n\u001b[0;32m    860\u001b[0m     \u001b[38;5;66;03m# Binary mode does not support 'encoding' and 'newline'.\u001b[39;00m\n\u001b[0;32m    861\u001b[0m     \u001b[38;5;28;01mif\u001b[39;00m ioargs\u001b[38;5;241m.\u001b[39mencoding \u001b[38;5;129;01mand\u001b[39;00m \u001b[38;5;124m\"\u001b[39m\u001b[38;5;124mb\u001b[39m\u001b[38;5;124m\"\u001b[39m \u001b[38;5;129;01mnot\u001b[39;00m \u001b[38;5;129;01min\u001b[39;00m ioargs\u001b[38;5;241m.\u001b[39mmode:\n\u001b[0;32m    862\u001b[0m         \u001b[38;5;66;03m# Encoding\u001b[39;00m\n\u001b[1;32m--> 863\u001b[0m         handle \u001b[38;5;241m=\u001b[39m \u001b[38;5;28;43mopen\u001b[39;49m\u001b[43m(\u001b[49m\n\u001b[0;32m    864\u001b[0m \u001b[43m            \u001b[49m\u001b[43mhandle\u001b[49m\u001b[43m,\u001b[49m\n\u001b[0;32m    865\u001b[0m \u001b[43m            \u001b[49m\u001b[43mioargs\u001b[49m\u001b[38;5;241;43m.\u001b[39;49m\u001b[43mmode\u001b[49m\u001b[43m,\u001b[49m\n\u001b[0;32m    866\u001b[0m \u001b[43m            \u001b[49m\u001b[43mencoding\u001b[49m\u001b[38;5;241;43m=\u001b[39;49m\u001b[43mioargs\u001b[49m\u001b[38;5;241;43m.\u001b[39;49m\u001b[43mencoding\u001b[49m\u001b[43m,\u001b[49m\n\u001b[0;32m    867\u001b[0m \u001b[43m            \u001b[49m\u001b[43merrors\u001b[49m\u001b[38;5;241;43m=\u001b[39;49m\u001b[43merrors\u001b[49m\u001b[43m,\u001b[49m\n\u001b[0;32m    868\u001b[0m \u001b[43m            \u001b[49m\u001b[43mnewline\u001b[49m\u001b[38;5;241;43m=\u001b[39;49m\u001b[38;5;124;43m\"\u001b[39;49m\u001b[38;5;124;43m\"\u001b[39;49m\u001b[43m,\u001b[49m\n\u001b[0;32m    869\u001b[0m \u001b[43m        \u001b[49m\u001b[43m)\u001b[49m\n\u001b[0;32m    870\u001b[0m     \u001b[38;5;28;01melse\u001b[39;00m:\n\u001b[0;32m    871\u001b[0m         \u001b[38;5;66;03m# Binary mode\u001b[39;00m\n\u001b[0;32m    872\u001b[0m         handle \u001b[38;5;241m=\u001b[39m \u001b[38;5;28mopen\u001b[39m(handle, ioargs\u001b[38;5;241m.\u001b[39mmode)\n",
      "\u001b[1;31mFileNotFoundError\u001b[0m: [Errno 2] No such file or directory: 'data\\\\train.csv'"
     ]
    }
   ],
   "source": [
    "ROOT_DIR = \"data\"\n",
    "RANDOM_STATE = 110\n",
    "\n",
    "# Load data\n",
    "train_data = pd.read_csv(os.path.join(ROOT_DIR, \"train.csv\"))\n",
    "train_data"
   ]
  },
  {
   "cell_type": "markdown",
   "id": "8f39bb67",
   "metadata": {},
   "source": [
    "전처리"
   ]
  },
  {
   "cell_type": "code",
   "execution_count": null,
   "id": "c895a84b",
   "metadata": {},
   "outputs": [],
   "source": [
    "from sklearn.preprocessing import LabelEncoder\n",
    "from sklearn.impute import SimpleImputer\n",
    "import pandas as pd\n",
    "\n",
    "# 이미 train_data가 정의되고 로드되었다고 가정합니다.\n",
    "\n",
    "# 'target' 열을 따로 저장\n",
    "target = train_data['target'].copy()\n",
    "\n",
    "# 'target' 열을 제외한 데이터프레임 생성\n",
    "data_without_target = train_data.drop(columns=['target'])\n",
    "\n",
    "# 범주형 변수를 숫자형으로 변환\n",
    "for column in data_without_target.select_dtypes(include=['object']).columns:\n",
    "    le = LabelEncoder()\n",
    "    data_without_target[column] = le.fit_transform(data_without_target[column])\n",
    "\n",
    "# 수치형 변수와 범주형 변수 구분\n",
    "numeric_features = data_without_target.select_dtypes(exclude=['object']).columns\n",
    "categorical_features = data_without_target.select_dtypes(include=['object']).columns\n",
    "\n",
    "# 수치형 데이터에서 결측치 처리\n",
    "X_numeric = data_without_target[numeric_features]\n",
    "# 모든 값이 결측치인 열을 0으로 채우기\n",
    "all_missing_numeric_columns = X_numeric.columns[X_numeric.isnull().all()]\n",
    "X_numeric[all_missing_numeric_columns] = X_numeric[all_missing_numeric_columns].fillna(0)\n",
    "\n",
    "# 나머지 수치형 결측치 처리\n",
    "imputer_numeric = SimpleImputer(strategy='mean')\n",
    "X_numeric_imputed = pd.DataFrame(imputer_numeric.fit_transform(X_numeric), columns=X_numeric.columns)\n",
    "\n",
    "# 범주형 데이터에서 결측치 처리\n",
    "X_categorical = data_without_target[categorical_features]\n",
    "# 모든 값이 결측치인 열을 -1로 채우기\n",
    "all_missing_categorical_columns = X_categorical.columns[X_categorical.isnull().all()]\n",
    "X_categorical[all_missing_categorical_columns] = X_categorical[all_missing_categorical_columns].fillna(-1)\n",
    "\n",
    "# 나머지 범주형 결측치 처리\n",
    "if not X_categorical.empty:\n",
    "    imputer_categorical = SimpleImputer(strategy='most_frequent')\n",
    "    X_categorical_imputed = pd.DataFrame(imputer_categorical.fit_transform(X_categorical), columns=X_categorical.columns)\n",
    "else:\n",
    "    X_categorical_imputed = X_categorical  # 범주형 데이터가 비어있지 않은 경우 원본 데이터 사용\n",
    "\n",
    "# 결측치 처리된 데이터 결합\n",
    "processed_data = pd.concat([X_numeric_imputed, X_categorical_imputed], axis=1)\n",
    "\n",
    "# 원래의 'target' 열을 다시 결합\n",
    "train_data = pd.concat([processed_data, target.reset_index(drop=True)], axis=1)\n",
    "\n",
    "# 'target' 열의 값을 1.0은 'Normal', 0.0은 'AbNormal'로 변경\n",
    "train_data['target'] = train_data['target'].replace({1.0: 'Normal', 0.0: 'AbNormal'})\n",
    "\n",
    "# 'target' 열의 값 확인\n",
    "print(train_data[\"target\"].value_counts())\n"
   ]
  },
  {
   "cell_type": "code",
   "execution_count": null,
   "id": "1ce54985",
   "metadata": {},
   "outputs": [],
   "source": [
    "'''from sklearn.preprocessing import LabelEncoder\n",
    "from sklearn.impute import SimpleImputer\n",
    "import pandas as pd\n",
    "\n",
    "# 이미 train_data가 정의되고 로드되었다고 가정합니다.\n",
    "\n",
    "# 'target' 열을 따로 저장\n",
    "target = train_data['target'].copy()\n",
    "\n",
    "# 'target' 열을 제외한 데이터프레임 생성\n",
    "data_without_target = train_data.drop(columns=['target'])\n",
    "\n",
    "# 대부분 NaN인 열 제거 (90% 이상 NaN인 경우 제거)\n",
    "threshold = 0.9\n",
    "missing_ratio = data_without_target.isnull().mean()\n",
    "columns_to_drop = missing_ratio[missing_ratio > threshold].index\n",
    "data_without_target = data_without_target.drop(columns=columns_to_drop)\n",
    "\n",
    "# 범주형 변수를 숫자형으로 변환\n",
    "for column in data_without_target.select_dtypes(include=['object']).columns:\n",
    "    le = LabelEncoder()\n",
    "    data_without_target[column] = le.fit_transform(data_without_target[column])\n",
    "\n",
    "# 수치형 변수와 범주형 변수 구분\n",
    "numeric_features = data_without_target.select_dtypes(exclude=['object']).columns\n",
    "categorical_features = data_without_target.select_dtypes(include=['object']).columns\n",
    "\n",
    "# 수치형 데이터에서 결측치 처리\n",
    "X_numeric = data_without_target[numeric_features]\n",
    "# 모든 값이 결측치인 열을 0으로 채우기\n",
    "all_missing_numeric_columns = X_numeric.columns[X_numeric.isnull().all()]\n",
    "X_numeric[all_missing_numeric_columns] = X_numeric[all_missing_numeric_columns].fillna(0)\n",
    "\n",
    "# 나머지 수치형 결측치 처리\n",
    "imputer_numeric = SimpleImputer(strategy='mean')\n",
    "X_numeric_imputed = pd.DataFrame(imputer_numeric.fit_transform(X_numeric), columns=X_numeric.columns)\n",
    "\n",
    "# 범주형 데이터에서 결측치 처리\n",
    "X_categorical = data_without_target[categorical_features]\n",
    "# 모든 값이 결측치인 열을 -1로 채우기\n",
    "all_missing_categorical_columns = X_categorical.columns[X_categorical.isnull().all()]\n",
    "X_categorical[all_missing_categorical_columns] = X_categorical[all_missing_categorical_columns].fillna(-1)\n",
    "\n",
    "# 나머지 범주형 결측치 처리\n",
    "if not X_categorical.empty:\n",
    "    imputer_categorical = SimpleImputer(strategy='most_frequent')\n",
    "    X_categorical_imputed = pd.DataFrame(imputer_categorical.fit_transform(X_categorical), columns=X_categorical.columns)\n",
    "else:\n",
    "    X_categorical_imputed = X_categorical  # 범주형 데이터가 비어있지 않은 경우 원본 데이터 사용\n",
    "\n",
    "# 결측치 처리된 데이터 결합\n",
    "processed_data = pd.concat([X_numeric_imputed, X_categorical_imputed], axis=1)\n",
    "\n",
    "# 원래의 'target' 열을 다시 결합\n",
    "train_data = pd.concat([processed_data, target.reset_index(drop=True)], axis=1)\n",
    "\n",
    "# 'target' 열의 값을 1.0은 'Normal', 0.0은 'AbNormal'로 변경\n",
    "train_data['target'] = train_data['target'].replace({1.0: 'Normal', 0.0: 'AbNormal'})\n",
    "\n",
    "# 'target' 열의 값 확인\n",
    "print(train_data[\"target\"].value_counts())'''"
   ]
  },
  {
   "cell_type": "code",
   "execution_count": null,
   "id": "30f96f3c",
   "metadata": {},
   "outputs": [],
   "source": [
    "train_data"
   ]
  },
  {
   "cell_type": "markdown",
   "id": "6118ae22",
   "metadata": {},
   "source": [
    "### 언더 샘플링\n"
   ]
  },
  {
   "cell_type": "code",
   "execution_count": null,
   "id": "be3d675d",
   "metadata": {},
   "outputs": [],
   "source": [
    "normal_ratio = 1.0  # 1.0 means 1:1 ratio\n",
    "\n",
    "df_normal = train_data[train_data[\"target\"] == \"Normal\"]\n",
    "df_abnormal = train_data[train_data[\"target\"] == \"AbNormal\"]\n",
    "\n",
    "num_normal = len(df_normal)\n",
    "num_abnormal = len(df_abnormal)\n",
    "print(f\"  Total: Normal: {num_normal}, AbNormal: {num_abnormal}\")\n",
    "\n",
    "df_normal = df_normal.sample(n=int(num_abnormal * normal_ratio), replace=False, random_state=RANDOM_STATE)\n",
    "df_concat = pd.concat([df_normal, df_abnormal], axis=0).reset_index(drop=True)\n",
    "df_concat.value_counts(\"target\")"
   ]
  },
  {
   "cell_type": "markdown",
   "id": "ebeaabc1",
   "metadata": {},
   "source": [
    "### 데이터 분할\n"
   ]
  },
  {
   "cell_type": "code",
   "execution_count": null,
   "id": "d01194fd",
   "metadata": {},
   "outputs": [],
   "source": [
    "df_train, df_val = train_test_split(\n",
    "    df_concat,\n",
    "    test_size=0.3,\n",
    "    stratify=df_concat[\"target\"],\n",
    "    random_state=RANDOM_STATE,\n",
    ")\n",
    "\n",
    "\n",
    "def print_stats(df: pd.DataFrame):\n",
    "    num_normal = len(df[df[\"target\"] == \"Normal\"])\n",
    "    num_abnormal = len(df[df[\"target\"] == \"AbNormal\"])\n",
    "\n",
    "    print(f\"  Total: Normal: {num_normal}, AbNormal: {num_abnormal}\" + f\" ratio: {num_abnormal/num_normal}\")\n",
    "\n",
    "\n",
    "# Print statistics\n",
    "print(f\"  \\tAbnormal\\tNormal\")\n",
    "print_stats(df_train)\n",
    "print_stats(df_val)"
   ]
  },
  {
   "cell_type": "markdown",
   "id": "79ecfa9b",
   "metadata": {},
   "source": [
    "## 3. 모델 학습\n"
   ]
  },
  {
   "cell_type": "markdown",
   "id": "3caf257b",
   "metadata": {},
   "source": [
    "### 모델 정의\n"
   ]
  },
  {
   "cell_type": "code",
   "execution_count": null,
   "id": "e4509af0",
   "metadata": {},
   "outputs": [],
   "source": [
    "model = RandomForestClassifier(n_estimators=42,random_state=2021)"
   ]
  },
  {
   "cell_type": "markdown",
   "id": "cacd5ed8",
   "metadata": {},
   "source": [
    "### 모델 학습\n"
   ]
  },
  {
   "cell_type": "code",
   "execution_count": null,
   "id": "766d1980",
   "metadata": {},
   "outputs": [],
   "source": [
    "features = []\n",
    "\n",
    "for col in df_train.columns:\n",
    "    try:\n",
    "        df_train[col] = df_train[col].astype(int)\n",
    "        features.append(col)\n",
    "    except:\n",
    "        continue\n",
    "\n",
    "train_x = df_train[features]\n",
    "train_y = df_train[\"target\"]\n",
    "\n",
    "\n",
    "model.fit(train_x, train_y)\n",
    "\n",
    "num_features = len(features)\n",
    "print(f\"Number of features: {num_features}\")"
   ]
  },
  {
   "cell_type": "code",
   "execution_count": null,
   "id": "d0885094",
   "metadata": {},
   "outputs": [],
   "source": [
    "# Train set에 대한 성능\n",
    "y_pred = model.predict(train_x)\n",
    "acc = accuracy_score(y_true = train_y, y_pred =y_pred)\n",
    "print(\"Train set에 대한 성능\")  \n",
    "print(f\"정확도:{acc:0.4f}\")  \n",
    "\n",
    "\n",
    "val_x = df_val[features]\n",
    "val_y = df_val[\"target\"]\n",
    "\n",
    "# Test set에 대한 성능\n",
    "y_pred = model.predict(val_x)\n",
    "acc = accuracy_score(y_true = val_y, y_pred =y_pred)\n",
    "print(\"\\n\")  \n",
    "print(\"Test set에 대한 성능\")  \n",
    "print(f\"정확도:{acc:0.4f}\")\n"
   ]
  },
  {
   "cell_type": "code",
   "execution_count": null,
   "id": "fb66ded8",
   "metadata": {},
   "outputs": [],
   "source": [
    "\"\"\"cv_scores = []\n",
    "estimator_list =[i for i in range(0,50,1)]\n",
    "for i in tqdm(range(0,50,1)):\n",
    "    model = RandomForestClassifier(n_estimators=i+1,\n",
    "                                 n_jobs=-1,\n",
    "                                 random_state=2021)\n",
    "    score = cross_val_score(model, train_x, train_y, cv=10, scoring = 'accuracy').mean()\n",
    "    cv_scores.append(score)\n",
    "\n",
    "best_e = [estimator_list[i] for i in range(len(cv_scores)) if cv_scores[i] == np.max(cv_scores)]\n",
    "plt.figure(figsize=(20,10))\n",
    "plt.legend([\"Cross validation scores\"], fontsize=20)\n",
    "plt.plot(estimator_list,cv_scores, marker='o', linestyle='dashed')\n",
    "plt.xlabel(\"the number of trees\", fontsize=20 )\n",
    "plt.ylabel(\"Accuracy\", fontsize=20)\n",
    "plt.title(\"Accuracy Score\", fontsize=25)\n",
    "plt.axvline(best_e[0], color='r', linestyle='--', linewidth=2)\n",
    "plt.show()\n",
    "print(f\"최적의 tree개수:{(cv_scores.index(max(cv_scores)))+1}\")\n",
    "print(\"\\n\")  \n",
    "print(\"Train set에 대한 성능 (10 fold cross validation)\")  \n",
    "print(f\"정확도:{max(cv_scores):0.4f}\")\"\"\""
   ]
  },
  {
   "cell_type": "code",
   "execution_count": null,
   "id": "00b18fec",
   "metadata": {},
   "outputs": [],
   "source": [
    "'''import warnings\n",
    "from sklearn.exceptions import ConvergenceWarning\n",
    "\n",
    "warnings.filterwarnings(\"ignore\", category=FutureWarning)\n",
    "\n",
    "model = RandomForestClassifier(random_state=2021)\n",
    "param_grid = {\n",
    "    'n_estimators': [50, 60, 70],\n",
    "    'max_depth': [20, 30, 40],\n",
    "    'max_leaf_nodes': [50, 100, 200],\n",
    "    'criterion':['gini', 'entropy'],\n",
    "    'max_features':['sqrt', 'log2']\n",
    "}\n",
    "\n",
    "CV_model = GridSearchCV(estimator=model, param_grid=param_grid, cv=10, verbose=1 ,n_jobs=-1)\n",
    "CV_model.fit(train_x, train_y)\n",
    "# 최적의 하이퍼 파라미터 셋\n",
    "CV_model.best_params_'''"
   ]
  },
  {
   "cell_type": "code",
   "execution_count": null,
   "id": "42195a53",
   "metadata": {},
   "outputs": [],
   "source": [
    "best_model = RandomForestClassifier(n_estimators=70,max_depth=20,\n",
    "    max_leaf_nodes=300,\n",
    "    criterion='gini',\n",
    "    max_features='log2',random_state=2021)\n",
    "best_model.fit(train_x, train_y)"
   ]
  },
  {
   "cell_type": "code",
   "execution_count": null,
   "id": "663a65eb",
   "metadata": {},
   "outputs": [],
   "source": [
    "# Train set에 대한 성능\n",
    "y_pred = best_model.predict(train_x)\n",
    "acc = accuracy_score(y_true = train_y, y_pred =y_pred)\n",
    "print(\"Train set에 대한 성능\")  \n",
    "print(f\"정확도:{acc:0.4f}\")  \n",
    "\n",
    "\n",
    "val_x = df_val[features]\n",
    "val_y = df_val[\"target\"]\n",
    "\n",
    "# Test set에 대한 성능\n",
    "y_pred = best_model.predict(val_x)\n",
    "acc = accuracy_score(y_true = val_y, y_pred =y_pred)\n",
    "print(\"\\n\")  \n",
    "print(\"Test set에 대한 성능\")  \n",
    "print(f\"정확도:{acc:0.4f}\")"
   ]
  },
  {
   "cell_type": "markdown",
   "id": "7adf8300",
   "metadata": {},
   "source": [
    "## 4. 제출하기\n"
   ]
  },
  {
   "cell_type": "markdown",
   "id": "9d0b6e17",
   "metadata": {},
   "source": [
    "### 테스트 데이터 예측\n"
   ]
  },
  {
   "cell_type": "markdown",
   "id": "cda16350",
   "metadata": {},
   "source": [
    "테스트 데이터 불러오기\n"
   ]
  },
  {
   "cell_type": "code",
   "execution_count": null,
   "id": "88e37a88",
   "metadata": {},
   "outputs": [],
   "source": [
    "test_data = pd.read_csv(os.path.join(ROOT_DIR, \"test.csv\"))\n",
    "test_data"
   ]
  },
  {
   "cell_type": "code",
   "execution_count": null,
   "id": "8cff5efa",
   "metadata": {},
   "outputs": [],
   "source": [
    "# 'target' 열을 따로 저장\n",
    "target = test_data['target'].copy()\n",
    "\n",
    "# 'target' 열을 제외한 데이터프레임 생성\n",
    "data_without_target = test_data.drop(columns=['target'])\n",
    "\n",
    "# 범주형 변수를 숫자형으로 변환\n",
    "for column in data_without_target.select_dtypes(include=['object']).columns:\n",
    "    le = LabelEncoder()\n",
    "    data_without_target[column] = le.fit_transform(data_without_target[column])\n",
    "\n",
    "# 수치형 변수와 범주형 변수 구분\n",
    "numeric_features = data_without_target.select_dtypes(exclude=['object']).columns\n",
    "categorical_features = data_without_target.select_dtypes(include=['object']).columns\n",
    "\n",
    "# 수치형 데이터에서 결측치 처리\n",
    "X_numeric = data_without_target[numeric_features]\n",
    "# 모든 값이 결측치인 열을 0으로 채우기\n",
    "all_missing_numeric_columns = X_numeric.columns[X_numeric.isnull().all()]\n",
    "X_numeric[all_missing_numeric_columns] = X_numeric[all_missing_numeric_columns].fillna(0)\n",
    "\n",
    "# 나머지 수치형 결측치 처리\n",
    "imputer_numeric = SimpleImputer(strategy='mean')\n",
    "X_numeric_imputed = pd.DataFrame(imputer_numeric.fit_transform(X_numeric), columns=X_numeric.columns)\n",
    "\n",
    "# 범주형 데이터에서 결측치 처리\n",
    "X_categorical = data_without_target[categorical_features]\n",
    "# 모든 값이 결측치인 열을 -1로 채우기\n",
    "all_missing_categorical_columns = X_categorical.columns[X_categorical.isnull().all()]\n",
    "X_categorical[all_missing_categorical_columns] = X_categorical[all_missing_categorical_columns].fillna(-1)\n",
    "\n",
    "# 나머지 범주형 결측치 처리\n",
    "if not X_categorical.empty:\n",
    "    imputer_categorical = SimpleImputer(strategy='most_frequent')\n",
    "    X_categorical_imputed = pd.DataFrame(imputer_categorical.fit_transform(X_categorical), columns=X_categorical.columns)\n",
    "else:\n",
    "    X_categorical_imputed = X_categorical  # 범주형 데이터가 비어있지 않은 경우 원본 데이터 사용\n",
    "\n",
    "# 결측치 처리된 데이터 결합\n",
    "processed_data = pd.concat([X_numeric_imputed, X_categorical_imputed], axis=1)\n",
    "\n",
    "# 원래의 'target' 열을 다시 결합\n",
    "test_data = pd.concat([processed_data, target.reset_index(drop=True)], axis=1)\n",
    "\n",
    "# 'target' 열의 값을 1.0은 'Normal', 0.0은 'AbNormal'로 변경\n",
    "test_data['target'] = test_data['target'].replace({1.0: 'Normal', 0.0: 'AbNormal'})\n",
    "\n",
    "# 'target' 열의 값 확인\n",
    "print(test_data[\"target\"].value_counts())"
   ]
  },
  {
   "cell_type": "code",
   "execution_count": null,
   "id": "a1eb2e59",
   "metadata": {},
   "outputs": [],
   "source": [
    "df_test_x = test_data[features]\n",
    "\n",
    "for col in df_test_x.columns:\n",
    "    try:\n",
    "        df_test_x.loc[:, col] = df_test_x[col].astype(int)\n",
    "    except:\n",
    "        continue"
   ]
  },
  {
   "cell_type": "code",
   "execution_count": null,
   "id": "d13f7a6e",
   "metadata": {
    "scrolled": true
   },
   "outputs": [],
   "source": [
    "test_pred = model.predict(df_test_x)\n",
    "test_pred"
   ]
  },
  {
   "cell_type": "markdown",
   "id": "47f18e6a",
   "metadata": {},
   "source": [
    "### 제출 파일 작성\n"
   ]
  },
  {
   "cell_type": "code",
   "execution_count": null,
   "id": "3128a458",
   "metadata": {},
   "outputs": [],
   "source": [
    "# 제출 데이터 읽어오기 (df_test는 전처리된 데이터가 저장됨)\n",
    "df_sub = pd.read_csv(\"submission.csv\")\n",
    "df_sub[\"target\"] = test_pred\n",
    "\n",
    "# 제출 파일 저장\n",
    "df_sub.to_csv(\"submission.csv\", index=False)"
   ]
  },
  {
   "cell_type": "markdown",
   "id": "ec7867ce",
   "metadata": {},
   "source": [
    "**우측 상단의 제출 버튼을 클릭해 결과를 확인하세요**\n"
   ]
  },
  {
   "cell_type": "code",
   "execution_count": null,
   "id": "1bac67b9",
   "metadata": {},
   "outputs": [],
   "source": [
    "print(f\"{train_data.shape},{test_data.shape},{df_sub.shape}\")"
   ]
  }
 ],
 "metadata": {
  "kernelspec": {
   "display_name": "Python 3 (ipykernel)",
   "language": "python",
   "name": "python3"
  },
  "language_info": {
   "codemirror_mode": {
    "name": "ipython",
    "version": 3
   },
   "file_extension": ".py",
   "mimetype": "text/x-python",
   "name": "python",
   "nbconvert_exporter": "python",
   "pygments_lexer": "ipython3",
   "version": "3.11.9"
  }
 },
 "nbformat": 4,
 "nbformat_minor": 5
}
